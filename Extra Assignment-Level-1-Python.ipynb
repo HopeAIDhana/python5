{
 "cells": [
  {
   "cell_type": "code",
   "execution_count": null,
   "id": "a9c418c3",
   "metadata": {},
   "outputs": [],
   "source": [
    "#print Statement\n",
    "print(\"HOPE AI\")"
   ]
  },
  {
   "cell_type": "code",
   "execution_count": null,
   "id": "e8f8584f",
   "metadata": {},
   "outputs": [],
   "source": [
    "#Buy input\n",
    "print(\"Enter your Institute Name? :\")\n",
    "ins=input()"
   ]
  },
  {
   "cell_type": "code",
   "execution_count": null,
   "id": "e913807c",
   "metadata": {},
   "outputs": [],
   "source": [
    "#Buy inputs\n",
    "print(\"Enter your Name :\")\n",
    "name=input()"
   ]
  },
  {
   "cell_type": "code",
   "execution_count": null,
   "id": "66c2c397",
   "metadata": {},
   "outputs": [
    {
     "name": "stdout",
     "output_type": "stream",
     "text": [
      "enter your name :\n"
     ]
    }
   ],
   "source": [
    "#Buy inputs\n",
    "name=input(print(\"enter your name :\"))\n",
    "age=int(input(print(\"enter your age :\")))\n",
    "sname=input(print(\"enter your school name :\"))\n",
    "deg=input(print(\"enter your degree :\"))"
   ]
  },
  {
   "cell_type": "code",
   "execution_count": null,
   "id": "0e90cef0",
   "metadata": {},
   "outputs": [],
   "source": [
    "#Addition\n",
    "print(\"a\")\n",
    "a=int(input())\n",
    "print(\"b\")\n",
    "b=int(input())\n",
    "add=int(a+b)\n",
    "print(\"add =\", add)"
   ]
  },
  {
   "cell_type": "code",
   "execution_count": null,
   "id": "7d700ca5",
   "metadata": {},
   "outputs": [],
   "source": [
    "#Subtraction\n",
    "print(\"a\")\n",
    "a=int(input())\n",
    "print(\"b\")\n",
    "b=int(input())\n",
    "sub=int(a-b)\n",
    "print(\"Sub =\", sub)"
   ]
  },
  {
   "cell_type": "code",
   "execution_count": null,
   "id": "2b6fc5ea",
   "metadata": {},
   "outputs": [],
   "source": [
    "#Multiplication\n",
    "print(\"a\")\n",
    "a=int(input())\n",
    "print(\"b\")\n",
    "b=int(input())\n",
    "mul=int(a*b)\n",
    "print(\"Mul =\", mul)"
   ]
  },
  {
   "cell_type": "code",
   "execution_count": null,
   "id": "4e8a8966",
   "metadata": {},
   "outputs": [],
   "source": [
    "#Division\n",
    "print(\"a\")\n",
    "a=int(input())\n",
    "print(\"b\")\n",
    "b=int(input())\n",
    "div=float(a/b)\n",
    "print(\"Div =\", div)"
   ]
  },
  {
   "cell_type": "code",
   "execution_count": 2,
   "id": "2c844532",
   "metadata": {},
   "outputs": [
    {
     "name": "stdout",
     "output_type": "stream",
     "text": [
      "a\n",
      "76\n",
      "b\n",
      "31\n",
      "floor division : 2\n"
     ]
    }
   ],
   "source": [
    "#floor division\n",
    "print(\"a\")\n",
    "a=int(input())\n",
    "print(\"b\")\n",
    "b=int(input())\n",
    "fdiv=int(a//b)\n",
    "print(\"floor division :\", fdiv)"
   ]
  },
  {
   "cell_type": "code",
   "execution_count": 1,
   "id": "d05e7c46",
   "metadata": {},
   "outputs": [
    {
     "name": "stdout",
     "output_type": "stream",
     "text": [
      "a\n",
      "76\n",
      "b\n",
      "31\n",
      "Modulo  14\n"
     ]
    }
   ],
   "source": [
    "#Modulo\n",
    "print(\"a\")\n",
    "a=int(input())\n",
    "print(\"b\")\n",
    "b=int(input())\n",
    "mod=int(a%b)\n",
    "print(\"Modulo \",mod)"
   ]
  },
  {
   "cell_type": "code",
   "execution_count": 3,
   "id": "95e2b701",
   "metadata": {},
   "outputs": [
    {
     "name": "stdout",
     "output_type": "stream",
     "text": [
      "a\n",
      "4\n",
      "b\n",
      "4\n",
      "power  256\n"
     ]
    }
   ],
   "source": [
    "#power\n",
    "print(\"a\")\n",
    "a=int(input())\n",
    "print(\"b\")\n",
    "b=int(input())\n",
    "exp=int(pow(a,b))\n",
    "print(\"power \", exp)"
   ]
  },
  {
   "cell_type": "code",
   "execution_count": null,
   "id": "b3d1b4f7",
   "metadata": {},
   "outputs": [],
   "source": []
  }
 ],
 "metadata": {
  "kernelspec": {
   "display_name": "Python 3 (ipykernel)",
   "language": "python",
   "name": "python3"
  },
  "language_info": {
   "codemirror_mode": {
    "name": "ipython",
    "version": 3
   },
   "file_extension": ".py",
   "mimetype": "text/x-python",
   "name": "python",
   "nbconvert_exporter": "python",
   "pygments_lexer": "ipython3",
   "version": "3.11.5"
  }
 },
 "nbformat": 4,
 "nbformat_minor": 5
}
