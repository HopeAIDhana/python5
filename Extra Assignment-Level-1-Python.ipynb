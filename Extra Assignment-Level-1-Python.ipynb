{
 "cells": [
  {
   "cell_type": "code",
   "execution_count": null,
   "id": "a9c418c3",
   "metadata": {},
   "outputs": [],
   "source": [
    "#print Statement\n",
    "print(\"HOPE AI\")"
   ]
  },
  {
   "cell_type": "code",
   "execution_count": 1,
   "id": "e8f8584f",
   "metadata": {},
   "outputs": [
    {
     "name": "stdout",
     "output_type": "stream",
     "text": [
      "Enter your Institute Name? :\n",
      "HOPE AI\n"
     ]
    }
   ],
   "source": [
    "#Buy input\n",
    "print(\"Enter your Institute Name? :\")\n",
    "ins=input()"
   ]
  },
  {
   "cell_type": "code",
   "execution_count": null,
   "id": "e913807c",
   "metadata": {},
   "outputs": [],
   "source": [
    "#Buy inputs\n",
    "print(\"Enter your Name :\")\n",
    "name=input()"
   ]
  },
  {
   "cell_type": "code",
   "execution_count": null,
   "id": "66c2c397",
   "metadata": {},
   "outputs": [],
   "source": [
    "#Buy inputs\n",
    "print(\"enter your name :\")\n",
    "name=input()\n",
    "print(\"enter your age :\")\n",
    "age=int(input())\n",
    "print(\"enter your school name :\")\n",
    "sname=input()\n",
    "print(\"enter your degree :\")\n",
    "deg=input()"
   ]
  },
  {
   "cell_type": "code",
   "execution_count": null,
   "id": "0e90cef0",
   "metadata": {},
   "outputs": [],
   "source": [
    "#Addition\n",
    "print(\"a\")\n",
    "a=int(input())\n",
    "print(\"b\")\n",
    "b=int(input())\n",
    "add=int(a+b)\n",
    "print(\"add =\", add)\n"
   ]
  },
  {
   "cell_type": "code",
   "execution_count": null,
   "id": "7d700ca5",
   "metadata": {},
   "outputs": [],
   "source": [
    "#Subtraction\n",
    "print(\"a\")\n",
    "a=int(input())\n",
    "print(\"b\")\n",
    "b=int(input())\n",
    "sub=int(a-b)\n",
    "print(\"Sub =\", sub)"
   ]
  },
  {
   "cell_type": "code",
   "execution_count": null,
   "id": "2b6fc5ea",
   "metadata": {},
   "outputs": [],
   "source": [
    "#Multiplication\n",
    "print(\"a\")\n",
    "a=int(input())\n",
    "print(\"b\")\n",
    "b=int(input())\n",
    "mul=int(a*b)\n",
    "print(\"Mul =\", mul)"
   ]
  },
  {
   "cell_type": "code",
   "execution_count": null,
   "id": "bc719ef1",
   "metadata": {},
   "outputs": [],
   "source": [
    "#power\n",
    "print(\"a\")\n",
    "a=int(iput())\n",
    "print(\"b\")\n",
    "b=int(input())\n",
    "pow=a*b\n",
    "print(\"power=\")\n"
   ]
  },
  {
   "cell_type": "code",
   "execution_count": null,
   "id": "4e8a8966",
   "metadata": {},
   "outputs": [],
   "source": [
    "#Division\n",
    "print(\"a\")\n",
    "a=int(input())\n",
    "print(\"b\")\n",
    "b=int(input())\n",
    "div=float(a/b)\n",
    "print(\"Div =\", div)"
   ]
  },
  {
   "cell_type": "code",
   "execution_count": null,
   "id": "6b571e1a",
   "metadata": {},
   "outputs": [],
   "source": [
    "#floor division\n",
    "print(\"a\")\n",
    "a=int(input())\n",
    "print(\"b\")\n",
    "b=int(input())\n",
    "fldiv =a+b\n",
    "print(\"floor div=\")"
   ]
  }
 ],
 "metadata": {
  "kernelspec": {
   "display_name": "Python 3 (ipykernel)",
   "language": "python",
   "name": "python3"
  },
  "language_info": {
   "codemirror_mode": {
    "name": "ipython",
    "version": 3
   },
   "file_extension": ".py",
   "mimetype": "text/x-python",
   "name": "python",
   "nbconvert_exporter": "python",
   "pygments_lexer": "ipython3",
   "version": "3.11.5"
  }
 },
 "nbformat": 4,
 "nbformat_minor": 5
}
