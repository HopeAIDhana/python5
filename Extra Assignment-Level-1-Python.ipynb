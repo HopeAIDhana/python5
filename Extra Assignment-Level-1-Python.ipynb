{
 "cells": [
  {
   "cell_type": "code",
   "execution_count": 4,
   "id": "a9c418c3",
   "metadata": {},
   "outputs": [
    {
     "name": "stdout",
     "output_type": "stream",
     "text": [
      "HOPE AI\n"
     ]
    }
   ],
   "source": [
    "#print Statement\n",
    "print(\"HOPE AI\")"
   ]
  },
  {
   "cell_type": "code",
   "execution_count": 14,
   "id": "e8f8584f",
   "metadata": {},
   "outputs": [
    {
     "name": "stdout",
     "output_type": "stream",
     "text": [
      "Enter your Institute Name? :Hope AI\n"
     ]
    }
   ],
   "source": [
    "#Buy input\n",
    "ins=input(\"Enter your Institute Name? :\")"
   ]
  },
  {
   "cell_type": "code",
   "execution_count": 6,
   "id": "e913807c",
   "metadata": {},
   "outputs": [
    {
     "name": "stdout",
     "output_type": "stream",
     "text": [
      "enter your name :Raj\n"
     ]
    }
   ],
   "source": [
    "#Buy inputs\n",
    "name=input(\"enter your name :\")"
   ]
  },
  {
   "cell_type": "code",
   "execution_count": 1,
   "id": "66c2c397",
   "metadata": {},
   "outputs": [
    {
     "name": "stdout",
     "output_type": "stream",
     "text": [
      "enter your name :Raj\n",
      "enter your age :23\n",
      "enter your school name :guru school\n",
      "enter your degree :be cse\n"
     ]
    }
   ],
   "source": [
    "#Buy inputs\n",
    "name=input(\"enter your name :\")\n",
    "age=int(input(\"enter your age :\"))\n",
    "sname=input(\"enter your school name :\")\n",
    "deg=input(\"enter your degree :\")"
   ]
  },
  {
   "cell_type": "code",
   "execution_count": 2,
   "id": "0e90cef0",
   "metadata": {},
   "outputs": [
    {
     "name": "stdout",
     "output_type": "stream",
     "text": [
      "a :12\n",
      "b :35\n",
      "add =  47\n"
     ]
    }
   ],
   "source": [
    "#Addition\n",
    "a=int(input(\"a :\"))\n",
    "b=int(input(\"b :\"))\n",
    "add=int(a+b)\n",
    "print(\"add = \", add)"
   ]
  },
  {
   "cell_type": "code",
   "execution_count": 3,
   "id": "7d700ca5",
   "metadata": {},
   "outputs": [
    {
     "name": "stdout",
     "output_type": "stream",
     "text": [
      "a :52\n",
      "b :2\n",
      "Sub = 50\n"
     ]
    }
   ],
   "source": [
    "#Subtraction\n",
    "a=int(input(\"a :\"))\n",
    "b=int(input(\"b :\"))\n",
    "sub=int(a-b)\n",
    "print(\"Sub =\", sub)"
   ]
  },
  {
   "cell_type": "code",
   "execution_count": 7,
   "id": "2b6fc5ea",
   "metadata": {},
   "outputs": [
    {
     "name": "stdout",
     "output_type": "stream",
     "text": [
      "a :45\n",
      "b :62\n",
      "Mul = 2790\n"
     ]
    }
   ],
   "source": [
    "#Multiplication\n",
    "a=int(input(\"a :\"))\n",
    "b=int(input(\"b :\"))\n",
    "mul=int(a*b)\n",
    "print(\"Mul =\", mul)"
   ]
  },
  {
   "cell_type": "code",
   "execution_count": 8,
   "id": "4e8a8966",
   "metadata": {},
   "outputs": [
    {
     "name": "stdout",
     "output_type": "stream",
     "text": [
      "a :65\n",
      "b :5\n",
      "Div = 13.0\n"
     ]
    }
   ],
   "source": [
    "#Division\n",
    "a=int(input(\"a :\"))\n",
    "b=int(input(\"b :\"))\n",
    "div=float(a/b)\n",
    "print(\"Div =\", div)"
   ]
  },
  {
   "cell_type": "code",
   "execution_count": 9,
   "id": "2c844532",
   "metadata": {},
   "outputs": [
    {
     "name": "stdout",
     "output_type": "stream",
     "text": [
      "a :45\n",
      "b :5\n",
      "floor division : 9\n"
     ]
    }
   ],
   "source": [
    "#floor division\n",
    "a=int(input(\"a :\"))\n",
    "b=int(input(\"b :\"))\n",
    "fdiv=int(a//b)\n",
    "print(\"floor division :\", fdiv)"
   ]
  },
  {
   "cell_type": "code",
   "execution_count": 10,
   "id": "d05e7c46",
   "metadata": {},
   "outputs": [
    {
     "name": "stdout",
     "output_type": "stream",
     "text": [
      "a :73\n",
      "b :61\n",
      "Modulo  12\n"
     ]
    }
   ],
   "source": [
    "#Modulo\n",
    "a=int(input(\"a :\"))\n",
    "b=int(input(\"b :\"))\n",
    "mod=int(a%b)\n",
    "print(\"Modulo \",mod)"
   ]
  },
  {
   "cell_type": "code",
   "execution_count": 13,
   "id": "95e2b701",
   "metadata": {},
   "outputs": [
    {
     "name": "stdout",
     "output_type": "stream",
     "text": [
      "a :4\n",
      "b :4\n",
      "power  256\n"
     ]
    }
   ],
   "source": [
    "#power\n",
    "a=int(input(\"a :\"))\n",
    "b=int(input(\"b :\"))\n",
    "exp=int(pow(a,b))\n",
    "print(\"power \", exp)"
   ]
  },
  {
   "cell_type": "code",
   "execution_count": null,
   "id": "b3d1b4f7",
   "metadata": {},
   "outputs": [],
   "source": []
  }
 ],
 "metadata": {
  "kernelspec": {
   "display_name": "Python 3 (ipykernel)",
   "language": "python",
   "name": "python3"
  },
  "language_info": {
   "codemirror_mode": {
    "name": "ipython",
    "version": 3
   },
   "file_extension": ".py",
   "mimetype": "text/x-python",
   "name": "python",
   "nbconvert_exporter": "python",
   "pygments_lexer": "ipython3",
   "version": "3.11.5"
  }
 },
 "nbformat": 4,
 "nbformat_minor": 5
}
