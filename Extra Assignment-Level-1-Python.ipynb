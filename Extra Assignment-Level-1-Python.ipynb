{
 "cells": [
  {
   "cell_type": "code",
   "execution_count": null,
   "id": "a9c418c3",
   "metadata": {},
   "outputs": [],
   "source": [
    "#print Statement\n",
    "print(\"HOPE AI\")"
   ]
  },
  {
   "cell_type": "code",
   "execution_count": null,
   "id": "e8f8584f",
   "metadata": {},
   "outputs": [],
   "source": [
    "#Buy input\n",
    "print(\"Enter your Institute Name? :\")\n",
    "ins=input()"
   ]
  },
  {
   "cell_type": "code",
   "execution_count": null,
   "id": "e913807c",
   "metadata": {},
   "outputs": [],
   "source": [
    "#Buy inputs\n",
    "print(\"Enter your Name :\")\n",
    "name=input()"
   ]
  },
  {
   "cell_type": "code",
   "execution_count": 1,
   "id": "66c2c397",
   "metadata": {},
   "outputs": [
    {
     "name": "stdout",
     "output_type": "stream",
     "text": [
      "raj\n",
      "enter your name : raj\n",
      "23\n",
      "enter your age : 23\n",
      "guru\n",
      "enter your school name : guru\n",
      "be  cse\n",
      "enter your degree : be  cse\n"
     ]
    }
   ],
   "source": [
    "#Buy inputs\n",
    "name=input()\n",
    "print(\"enter your name :\",name)\n",
    "age=int(input())\n",
    "print(\"enter your age :\",age)\n",
    "sname=input()\n",
    "print(\"enter your school name :\",sname)\n",
    "deg=input()\n",
    "print(\"enter your degree :\",deg)"
   ]
  },
  {
   "cell_type": "code",
   "execution_count": 2,
   "id": "0e90cef0",
   "metadata": {},
   "outputs": [
    {
     "name": "stdout",
     "output_type": "stream",
     "text": [
      "22\n",
      "32\n",
      "add = 54\n"
     ]
    }
   ],
   "source": [
    "#Addition\n",
    "a=int(input())\n",
    "b=int(input())\n",
    "add=int(a+b)\n",
    "print(\"add =\", add)"
   ]
  },
  {
   "cell_type": "code",
   "execution_count": 3,
   "id": "7d700ca5",
   "metadata": {},
   "outputs": [
    {
     "name": "stdout",
     "output_type": "stream",
     "text": [
      "35\n",
      "15\n",
      "Sub = 20\n"
     ]
    }
   ],
   "source": [
    "#Subtraction\n",
    "a=int(input())\n",
    "b=int(input())\n",
    "sub=int(a-b)\n",
    "print(\"Sub =\", sub)"
   ]
  },
  {
   "cell_type": "code",
   "execution_count": 4,
   "id": "2b6fc5ea",
   "metadata": {},
   "outputs": [
    {
     "name": "stdout",
     "output_type": "stream",
     "text": [
      "8\n",
      "2\n",
      "Mul = 16\n"
     ]
    }
   ],
   "source": [
    "#Multiplication\n",
    "a=int(input())\n",
    "b=int(input())\n",
    "mul=int(a*b)\n",
    "print(\"Mul =\", mul)"
   ]
  },
  {
   "cell_type": "code",
   "execution_count": 5,
   "id": "4e8a8966",
   "metadata": {},
   "outputs": [
    {
     "name": "stdout",
     "output_type": "stream",
     "text": [
      "8\n",
      "2\n",
      "Div = 4.0\n"
     ]
    }
   ],
   "source": [
    "#Division\n",
    "a=int(input())\n",
    "b=int(input())\n",
    "div=float(a/b)\n",
    "print(\"Div =\", div)"
   ]
  },
  {
   "cell_type": "code",
   "execution_count": 6,
   "id": "2c844532",
   "metadata": {},
   "outputs": [
    {
     "name": "stdout",
     "output_type": "stream",
     "text": [
      "8\n",
      "2\n",
      "floor division : 4\n"
     ]
    }
   ],
   "source": [
    "#floor division\n",
    "a=int(input())\n",
    "b=int(input())\n",
    "fdiv=int(a//b)\n",
    "print(\"floor division :\", fdiv)"
   ]
  },
  {
   "cell_type": "code",
   "execution_count": 7,
   "id": "d05e7c46",
   "metadata": {},
   "outputs": [
    {
     "name": "stdout",
     "output_type": "stream",
     "text": [
      "76\n",
      "31\n",
      "Modulo  14\n"
     ]
    }
   ],
   "source": [
    "#Modulo\n",
    "a=int(input())\n",
    "b=int(input())\n",
    "mod=int(a%b)\n",
    "print(\"Modulo \",mod)"
   ]
  },
  {
   "cell_type": "code",
   "execution_count": 8,
   "id": "95e2b701",
   "metadata": {},
   "outputs": [
    {
     "name": "stdout",
     "output_type": "stream",
     "text": [
      "4\n",
      "4\n",
      "power  256\n"
     ]
    }
   ],
   "source": [
    "#power\n",
    "a=int(input())\n",
    "b=int(input())\n",
    "exp=int(pow(a,b))\n",
    "print(\"power \", exp)"
   ]
  },
  {
   "cell_type": "code",
   "execution_count": null,
   "id": "b3d1b4f7",
   "metadata": {},
   "outputs": [],
   "source": []
  }
 ],
 "metadata": {
  "kernelspec": {
   "display_name": "Python 3 (ipykernel)",
   "language": "python",
   "name": "python3"
  },
  "language_info": {
   "codemirror_mode": {
    "name": "ipython",
    "version": 3
   },
   "file_extension": ".py",
   "mimetype": "text/x-python",
   "name": "python",
   "nbconvert_exporter": "python",
   "pygments_lexer": "ipython3",
   "version": "3.11.5"
  }
 },
 "nbformat": 4,
 "nbformat_minor": 5
}
