{
 "cells": [
  {
   "cell_type": "code",
   "execution_count": null,
   "id": "442983bc",
   "metadata": {},
   "outputs": [],
   "source": [
    "#Create a Class and Function, and List out the items in the List"
   ]
  },
  {
   "cell_type": "code",
   "execution_count": 1,
   "id": "1bc868f4",
   "metadata": {},
   "outputs": [
    {
     "name": "stdout",
     "output_type": "stream",
     "text": [
      "Sub-fields in AI are :\n",
      "Machine Learning\n",
      "Neural Networks\n",
      "Vision\n",
      "Robotics\n",
      "Speech Processing\n",
      "Natural Language Processing\n"
     ]
    }
   ],
   "source": [
    "#Create the Function\n",
    "class subfieldsinAI():\n",
    "    def fieldsinai():\n",
    "        print(\"Sub-fields in AI are :\")\n",
    "    fieldsinai()\n",
    "sub_fields=[\"Machine Learning\",\"Neural Networks\",\"Vision\",\"Robotics\",\"Speech Processing\",\"Natural Language Processing\"]\n",
    "obj = subfieldsinAI()\n",
    "for title in sub_fields:\n",
    "    print(title)\n"
   ]
  },
  {
   "cell_type": "code",
   "execution_count": 2,
   "id": "019a1c75",
   "metadata": {},
   "outputs": [
    {
     "name": "stdout",
     "output_type": "stream",
     "text": [
      "Enter a Number  : 24542\n",
      "24542 is Even Number\n"
     ]
    }
   ],
   "source": [
    "#Create a function that checks whether the given number is odd or even\n",
    "class OddEven():\n",
    "      \n",
    "    def oddfun(self,num):\n",
    "            if (num%2) == 0:\n",
    "                print(num ,\"is Even Number\")\n",
    "            else:\n",
    "                print(num, \"is Odd Number:\")\n",
    "                \n",
    "num=int(input(\"Enter a Number  : \"))\n",
    "obj=OddEven()\n",
    "obj.oddfun(num)"
   ]
  },
  {
   "cell_type": "code",
   "execution_count": 3,
   "id": "2b775694",
   "metadata": {},
   "outputs": [
    {
     "name": "stdout",
     "output_type": "stream",
     "text": [
      "Your Age :21\n",
      "Your Gender :male\n",
      "Eligible\n"
     ]
    }
   ],
   "source": [
    "#create a function that tells the Eligibility of Marriage of Male and Female age limit\n",
    "class EligibilityforMarriage():\n",
    "    def eligibility(age, age_limit):\n",
    "        if (age >= age_limit):\n",
    "            print(\"Eligible\")\n",
    "        else:\n",
    "            print(\"Not Eligible\")\n",
    "\n",
    "age=int(input(\"Your Age :\"))\n",
    "gen=input(\"Your Gender :\")\n",
    "if (gen== 'male'):\n",
    "    EligibilityforMarriage.eligibility(age,21)\n",
    "elif (gen=='female'):\n",
    "    EligibilityforMarriage.eligibility(age,18)\n",
    "                 \n",
    "                "
   ]
  },
  {
   "cell_type": "code",
   "execution_count": 4,
   "id": "7cf51a35",
   "metadata": {},
   "outputs": [
    {
     "name": "stdout",
     "output_type": "stream",
     "text": [
      "Subject_1  :95\n",
      "Subject_2  :87\n",
      "Subject_3  :95\n",
      "Subject_4  :95\n",
      "Subject_5  :93\n",
      "Total :  465\n",
      "Percentage : 93.0\n"
     ]
    }
   ],
   "source": [
    "#Find , Total, Percentage of Marks.\n",
    "\n",
    "class findpercentage():\n",
    "    def percent():\n",
    "        s1=int(input(\"Subject_1  :\"))\n",
    "        s2=int(input(\"Subject_2  :\"))\n",
    "        s3=int(input(\"Subject_3  :\"))\n",
    "        s4=int(input(\"Subject_4  :\"))\n",
    "        s5=int(input(\"Subject_5  :\"))\n",
    "       \n",
    "        Total=s1+s2+s3+s4+s5\n",
    "        print(\"Total : \",s1+s2+s3+s4+s5)\n",
    "        \n",
    "        Perce=((Total/500.0)*100)\n",
    "        print(\"Percentage :\", Perce)      \n",
    "findpercentage.percent()"
   ]
  },
  {
   "cell_type": "code",
   "execution_count": null,
   "id": "99d77ff9",
   "metadata": {},
   "outputs": [],
   "source": []
  },
  {
   "cell_type": "code",
   "execution_count": null,
   "id": "8e0ac960",
   "metadata": {},
   "outputs": [
    {
     "name": "stdout",
     "output_type": "stream",
     "text": [
      "Height :32\n",
      "Breadth :34\n",
      "Area formula : (Height * Breadth) / 2 \n",
      "Area of Triangle : 544.0\n"
     ]
    }
   ],
   "source": [
    "#Print Area and Perimeter in Triangle using function\n",
    "\n",
    "class triangle():\n",
    "    def area_triangle (height,breadth):\n",
    "        area= float((height * breadth) // 2)\n",
    "        return area\n",
    "    def peri_triangle (breath,second,third):\n",
    "        peri=round(breath+second+third)\n",
    "        return peri\n",
    "height = int(input(\"Height :\"))\n",
    "breadth = int(input(\"Breadth :\"))\n",
    "print(\"Area formula : (Height * Breadth) / 2 \",)\n",
    "print(\"Area of Triangle :\",triangle.area_triangle(height,breadth))\n",
    "base = int(input(\"Breadth :\"))\n",
    "second = int(input(\"Height2 :\"))\n",
    "third = int(input(\"Height3 :\"))\n",
    "print(\"Perimeter formula : Height1 +  Height2 + Breadth\")\n",
    "print(\"Perimeter of Triangle :\", triangle.peri_triangle(base,second,third)) \n",
    "    "
   ]
  },
  {
   "cell_type": "code",
   "execution_count": null,
   "id": "b089e4ce",
   "metadata": {},
   "outputs": [],
   "source": []
  }
 ],
 "metadata": {
  "kernelspec": {
   "display_name": "Python 3 (ipykernel)",
   "language": "python",
   "name": "python3"
  },
  "language_info": {
   "codemirror_mode": {
    "name": "ipython",
    "version": 3
   },
   "file_extension": ".py",
   "mimetype": "text/x-python",
   "name": "python",
   "nbconvert_exporter": "python",
   "pygments_lexer": "ipython3",
   "version": "3.11.5"
  }
 },
 "nbformat": 4,
 "nbformat_minor": 5
}
