{
 "cells": [
  {
   "cell_type": "code",
   "execution_count": null,
   "id": "442983bc",
   "metadata": {},
   "outputs": [],
   "source": [
    "#Create a Class and Function, and List out the items in the List"
   ]
  },
  {
   "cell_type": "code",
   "execution_count": 1,
   "id": "1bc868f4",
   "metadata": {},
   "outputs": [],
   "source": [
    "#Create the Function\n",
    "class subfieldsinAI():\n",
    "    def fieldsinai():\n",
    "        print(\"Sub-fields in AI are :\")\n",
    "        sub_fields=[\"Machine Learning\",\"Neural Networks\",\"Vision\",\"Robotics\",\"Speech Processing\",\"Natural Language Processing\"]\n",
    "        for title in sub_fields:\n",
    "            print(title)\n"
   ]
  },
  {
   "cell_type": "code",
   "execution_count": 2,
   "id": "e3d1fcc0",
   "metadata": {},
   "outputs": [
    {
     "name": "stdout",
     "output_type": "stream",
     "text": [
      "Sub-fields in AI are :\n",
      "Machine Learning\n",
      "Neural Networks\n",
      "Vision\n",
      "Robotics\n",
      "Speech Processing\n",
      "Natural Language Processing\n"
     ]
    }
   ],
   "source": [
    "subfieldsinAI.fieldsinai()"
   ]
  },
  {
   "cell_type": "code",
   "execution_count": 3,
   "id": "019a1c75",
   "metadata": {},
   "outputs": [],
   "source": [
    "#Create a function that checks whether the given number is odd or even\n",
    "class OddEven():\n",
    "    def OddEven():\n",
    "        num=int(input(\"Enter the Number :\"))\n",
    "        if (num%2) == 0:\n",
    "            print(\"{0} is Even Number\", format(num))\n",
    "        else:\n",
    "            print(\"{0} is Odd Number\", format(num))\n",
    "                "
   ]
  },
  {
   "cell_type": "code",
   "execution_count": 4,
   "id": "11fbf471",
   "metadata": {},
   "outputs": [
    {
     "name": "stdout",
     "output_type": "stream",
     "text": [
      "Enter the Number :52452\n",
      "{0} is Even Number 52452\n"
     ]
    }
   ],
   "source": [
    "OddEven.OddEven()"
   ]
  },
  {
   "cell_type": "code",
   "execution_count": 5,
   "id": "2b775694",
   "metadata": {},
   "outputs": [],
   "source": [
    "#create a function that tells the Eligibility of Marriage of Male and Female age limit\n",
    "class EligibilityforMarriage():\n",
    "    def Eligible():\n",
    "        age=int(input(\"Your Age :\"))\n",
    "        gender=input(\"Your Gender :\")\n",
    "        if (gender== 'male'):\n",
    "            if (age >= 21):\n",
    "                print(\"Eligible\")\n",
    "            else:\n",
    "                print(\"Not Eligible\")\n",
    "        elif (gender=='female'):\n",
    "            if(age>18):\n",
    "                print(\"Eligible\")\n",
    "            else:\n",
    "                print(\"Not Eligible\")\n",
    "        else:\n",
    "            print(\"Invalid Input Data\")   \n",
    "                "
   ]
  },
  {
   "cell_type": "code",
   "execution_count": 6,
   "id": "78660a37",
   "metadata": {},
   "outputs": [
    {
     "name": "stdout",
     "output_type": "stream",
     "text": [
      "Your Age :20\n",
      "Your Gender :male\n",
      "Not Eligible\n"
     ]
    }
   ],
   "source": [
    "EligibilityforMarriage.Eligible()"
   ]
  },
  {
   "cell_type": "code",
   "execution_count": 7,
   "id": "7cf51a35",
   "metadata": {},
   "outputs": [],
   "source": [
    "#Find , Total, Percentage of Marks.\n",
    "\n",
    "class findpercentage():\n",
    "    def percent():\n",
    "        s1=int(input(\"Subject_1  :\"))\n",
    "        s2=int(input(\"Subject_2  :\"))\n",
    "        s3=int(input(\"Subject_3  :\"))\n",
    "        s4=int(input(\"Subject_4  :\"))\n",
    "        s5=int(input(\"Subject_5  :\"))\n",
    "        Total=s1+s2+s3+s4+s5\n",
    "        print(\"Total : \",s1+s2+s3+s4+s5)\n",
    "        Perce=((Total/500.0)*100)\n",
    "        print(\"Percentage :\", Perce)  \n"
   ]
  },
  {
   "cell_type": "code",
   "execution_count": 8,
   "id": "9c70a639",
   "metadata": {},
   "outputs": [
    {
     "name": "stdout",
     "output_type": "stream",
     "text": [
      "Subject_1  :98\n",
      "Subject_2  :87\n",
      "Subject_3  :95\n",
      "Subject_4  :95\n",
      "Subject_5  :93\n",
      "Total :  468\n",
      "Percentage : 93.60000000000001\n"
     ]
    }
   ],
   "source": [
    "findpercentage.percent()"
   ]
  },
  {
   "cell_type": "code",
   "execution_count": 9,
   "id": "8e0ac960",
   "metadata": {},
   "outputs": [],
   "source": [
    "#Print Area and Perimeter in Triangle using function\n",
    "\n",
    "class triangle():\n",
    "    def triangle():\n",
    "        height = int(input(\"Height :\"))\n",
    "        breadth = int(input(\"Breadth :\"))\n",
    "        print(\"Area formula : (Height * Breadth) / 2 \")\n",
    "        print(\"Area of Triangle :\",(height*breadth/2))\n",
    "        base = int(input(\"Breadth :\"))\n",
    "        second = int(input(\"Height2 :\"))\n",
    "        third = int(input(\"Height3 :\"))\n",
    "        print(\"Perimeter formula : Height1 +  Height2 + Breadth\")\n",
    "        print(\"Perimeter of Triangle :\",(base+second+third)) \n",
    "    "
   ]
  },
  {
   "cell_type": "code",
   "execution_count": 10,
   "id": "b089e4ce",
   "metadata": {},
   "outputs": [
    {
     "name": "stdout",
     "output_type": "stream",
     "text": [
      "Height :32\n",
      "Breadth :34\n",
      "Area formula : (Height * Breadth) / 2 \n",
      "Area of Triangle : 544.0\n",
      "Breadth :2\n",
      "Height2 :4\n",
      "Height3 :4\n",
      "Perimeter formula : Height1 +  Height2 + Breadth\n",
      "Perimeter of Triangle : 10\n"
     ]
    }
   ],
   "source": [
    "triangle.triangle()"
   ]
  },
  {
   "cell_type": "code",
   "execution_count": null,
   "id": "1eb3aa60",
   "metadata": {},
   "outputs": [],
   "source": []
  }
 ],
 "metadata": {
  "kernelspec": {
   "display_name": "Python 3 (ipykernel)",
   "language": "python",
   "name": "python3"
  },
  "language_info": {
   "codemirror_mode": {
    "name": "ipython",
    "version": 3
   },
   "file_extension": ".py",
   "mimetype": "text/x-python",
   "name": "python",
   "nbconvert_exporter": "python",
   "pygments_lexer": "ipython3",
   "version": "3.11.5"
  }
 },
 "nbformat": 4,
 "nbformat_minor": 5
}
