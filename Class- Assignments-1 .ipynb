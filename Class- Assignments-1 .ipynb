{
 "cells": [
  {
   "cell_type": "code",
   "execution_count": null,
   "id": "442983bc",
   "metadata": {},
   "outputs": [],
   "source": [
    "#Create a Class and Function, and List out the items in the List"
   ]
  },
  {
   "cell_type": "code",
   "execution_count": 14,
   "id": "1bc868f4",
   "metadata": {},
   "outputs": [
    {
     "name": "stdout",
     "output_type": "stream",
     "text": [
      "Sub-fields in AI are :\n",
      "Machine Learning\n",
      "Neural Networks\n",
      "Vision\n",
      "Robotics\n",
      "Speech Processing\n",
      "Natural Language Processing\n"
     ]
    }
   ],
   "source": [
    "#Create the Function\n",
    "class subfieldsinAI():\n",
    "    def fieldsinai():\n",
    "        print(\"Sub-fields in AI are :\")\n",
    "    fieldsinai()\n",
    "sub_fields=[\"Machine Learning\",\"Neural Networks\",\"Vision\",\"Robotics\",\"Speech Processing\",\"Natural Language Processing\"]\n",
    "obj = subfieldsinAI()\n",
    "for title in sub_fields:\n",
    "    print(title)\n"
   ]
  },
  {
   "cell_type": "code",
   "execution_count": 3,
   "id": "019a1c75",
   "metadata": {},
   "outputs": [
    {
     "name": "stdout",
     "output_type": "stream",
     "text": [
      "Enter a Number  : 52452\n",
      "52452 is Even Number\n"
     ]
    }
   ],
   "source": [
    "#Create a function that checks whether the given number is odd or even\n",
    "class OddEven():\n",
    "      \n",
    "    def oddfun(self,num):\n",
    "            if (num%2) == 0:\n",
    "                print(num ,\"is Even Number\")\n",
    "            else:\n",
    "                print(num, \"is Odd Number:\")\n",
    "                \n",
    "num=int(input(\"Enter a Number  : \"))\n",
    "obj=OddEven()\n",
    "obj.oddfun(num)"
   ]
  },
  {
   "cell_type": "code",
   "execution_count": 6,
   "id": "2b775694",
   "metadata": {},
   "outputs": [
    {
     "name": "stdout",
     "output_type": "stream",
     "text": [
      "Your Age :17\n",
      "Your Gender :female\n",
      "Not Eligible\n"
     ]
    }
   ],
   "source": [
    "#create a function that tells the Eligibility of Marriage of Male and Female age limit\n",
    "class EligibilityforMarriage():\n",
    "    def eligibility(age, age_limit):\n",
    "        if (age >= age_limit):\n",
    "            print(\"Eligible\")\n",
    "        else:\n",
    "            print(\"Not Eligible\")\n",
    "\n",
    "age=int(input(\"Your Age :\"))\n",
    "gen=input(\"Your Gender :\")\n",
    "if (gen== 'male'):\n",
    "    EligibilityforMarriage.eligibility(age,21)\n",
    "elif (gen=='female'):\n",
    "    EligibilityforMarriage.eligibility(age,18)\n",
    "                 \n",
    "                "
   ]
  },
  {
   "cell_type": "code",
   "execution_count": 11,
   "id": "46f54aab",
   "metadata": {},
   "outputs": [
    {
     "ename": "NameError",
     "evalue": "name 'self' is not defined",
     "output_type": "error",
     "traceback": [
      "\u001b[1;31m---------------------------------------------------------------------------\u001b[0m",
      "\u001b[1;31mNameError\u001b[0m                                 Traceback (most recent call last)",
      "Cell \u001b[1;32mIn[11], line 24\u001b[0m\n\u001b[0;32m     21\u001b[0m     \u001b[38;5;28;01mdef\u001b[39;00m  \u001b[38;5;21mcalcPer\u001b[39m(\u001b[38;5;28mself\u001b[39m):  \n\u001b[0;32m     22\u001b[0m          \u001b[38;5;28;01mreturn\u001b[39;00m (\u001b[38;5;28mself\u001b[39m\u001b[38;5;241m.\u001b[39mtotal \u001b[38;5;241m*\u001b[39m\u001b[38;5;241m100\u001b[39m) \u001b[38;5;241m/\u001b[39m (\u001b[38;5;28mlen\u001b[39m (\u001b[38;5;28mself\u001b[39m\u001b[38;5;241m.\u001b[39mmarks) \u001b[38;5;241m*\u001b[39m \u001b[38;5;241m100\u001b[39m)\n\u001b[1;32m---> 24\u001b[0m findpercent\u001b[38;5;241m=\u001b[39mfindpercent(\u001b[38;5;28mself\u001b[39m)           \n\u001b[0;32m     25\u001b[0m findpercent\u001b[38;5;241m.\u001b[39mgetdata(\u001b[38;5;28mself\u001b[39m)\n\u001b[0;32m     26\u001b[0m findpercent\u001b[38;5;241m.\u001b[39mcalcTotal(\u001b[38;5;28mself\u001b[39m)\n",
      "\u001b[1;31mNameError\u001b[0m: name 'self' is not defined"
     ]
    }
   ],
   "source": [
    "#Calculate the Percentage of your 10th Mark\n",
    "class findpercent():\n",
    "    \n",
    "    def _init_(self):\n",
    "        self.marks=[]\n",
    "        self.total=0.00\n",
    "        self.percentage=0.00\n",
    "    \n",
    "    def getdata(self):\n",
    "                 print(\"Enter the marks of 5 subjects  :  \")\n",
    "                 for i in range(5):\n",
    "                          self.marks.append( float (input()))\n",
    "            \n",
    "            \n",
    "    def calcTotal(self):\n",
    "                  self.total=0\n",
    "                  for i in self.marks:\n",
    "                    self.total += i\n",
    "                    return self.total\n",
    "        \n",
    "    def  calcPer(self):  \n",
    "         return (self.total *100) / (len (self.marks) * 100)\n",
    "                      \n",
    "findpercent=findpercent(self)           \n",
    "findpercent.getdata(self)\n",
    "findpercent.calcTotal(self)\n",
    "findpercent.calcPer(self)\n",
    "\n",
    "        \n",
    "   \n",
    "        \n"
   ]
  },
  {
   "cell_type": "code",
   "execution_count": 15,
   "id": "8e0ac960",
   "metadata": {},
   "outputs": [
    {
     "name": "stdout",
     "output_type": "stream",
     "text": [
      "Height :32\n",
      "Breadth :34\n",
      "Area formula : (Height * Breadth) / 2 \n",
      "Area of Triangle : 544.0\n",
      "Breadth :4\n",
      "Height2 :2\n",
      "Height3 :2\n",
      "Perimeter formula : Height1 +  Height2 + Breadth\n",
      "Perimeter of Triangle : 8\n"
     ]
    }
   ],
   "source": [
    "#Print Area and Perimeter in Triangle using function\n",
    "\n",
    "class triangle():\n",
    "    def area_triangle (height,breadth):\n",
    "        area= float((height * breadth) // 2)\n",
    "        return area\n",
    "    def peri_triangle (breath,second,third):\n",
    "        peri=round(breath+second+third)\n",
    "        return peri\n",
    "height = int(input(\"Height :\"))\n",
    "breadth = int(input(\"Breadth :\"))\n",
    "print(\"Area formula : (Height * Breadth) / 2 \",)\n",
    "print(\"Area of Triangle :\",triangle.area_triangle(height,breadth))\n",
    "base = int(input(\"Breadth :\"))\n",
    "second = int(input(\"Height2 :\"))\n",
    "third = int(input(\"Height3 :\"))\n",
    "print(\"Perimeter formula : Height1 +  Height2 + Breadth\")\n",
    "print(\"Perimeter of Triangle :\", triangle.peri_triangle(base,second,third)) \n",
    "    "
   ]
  },
  {
   "cell_type": "code",
   "execution_count": null,
   "id": "b089e4ce",
   "metadata": {},
   "outputs": [],
   "source": []
  }
 ],
 "metadata": {
  "kernelspec": {
   "display_name": "Python 3 (ipykernel)",
   "language": "python",
   "name": "python3"
  },
  "language_info": {
   "codemirror_mode": {
    "name": "ipython",
    "version": 3
   },
   "file_extension": ".py",
   "mimetype": "text/x-python",
   "name": "python",
   "nbconvert_exporter": "python",
   "pygments_lexer": "ipython3",
   "version": "3.11.5"
  }
 },
 "nbformat": 4,
 "nbformat_minor": 5
}
