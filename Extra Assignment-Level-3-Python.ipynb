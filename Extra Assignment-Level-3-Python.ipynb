{
 "cells": [
  {
   "cell_type": "code",
   "execution_count": 1,
   "id": "30769e0a",
   "metadata": {},
   "outputs": [
    {
     "name": "stdout",
     "output_type": "stream",
     "text": [
      "Enter the value :10\n",
      "Correct\n"
     ]
    }
   ],
   "source": [
    "#print'Correct' if i==0\n",
    "val=int(input(\"Enter the value :\"))\n",
    "if (val==10 ):\n",
    "    print(\"Correct\")"
   ]
  },
  {
   "cell_type": "code",
   "execution_count": null,
   "id": "59df6a9c",
   "metadata": {},
   "outputs": [],
   "source": [
    "#check the password using if and else\n",
    "pw=input(\"enter the password  :  \")\n",
    "if (pw=='Hope@123'):\n",
    "    print(\"your password is correct\")\n",
    "else:\n",
    "    print(\"invalid password\")\n",
    "    \n"
   ]
  },
  {
   "cell_type": "code",
   "execution_count": null,
   "id": "c85d55ef",
   "metadata": {},
   "outputs": [],
   "source": [
    "#catageory the people by their age like Children, Adult, Citizen or Senior Citizen\n",
    "list1=[12,29,37,47,67,89]\n",
    "for age in list1:\n",
    "    if (age<18):\n",
    "        print(\"children\")\n",
    "    elif(age<39):\n",
    "         print(\"Adult\")\n",
    "    elif(age<59):\n",
    "         print(\"citizen\")\n",
    "    else:\n",
    "        print(\"senior citizen\")\n"
   ]
  },
  {
   "cell_type": "code",
   "execution_count": 9,
   "id": "dd2dd1e9",
   "metadata": {},
   "outputs": [
    {
     "name": "stdout",
     "output_type": "stream",
     "text": [
      "Enter the number :-45\n",
      "Negative number\n"
     ]
    }
   ],
   "source": [
    "#Find whether the given number is Positive or Negative\n",
    "num=int(input(\"Enter the number :\"))\n",
    "if (num>0):\n",
    "    print(\"Positive number\")\n",
    "elif (num<0):\n",
    "    print(\"Negative number\")\n",
    "        "
   ]
  },
  {
   "cell_type": "code",
   "execution_count": 12,
   "id": "e3293690",
   "metadata": {},
   "outputs": [
    {
     "name": "stdout",
     "output_type": "stream",
     "text": [
      "Enter the Number :24\n",
      "not Divisable by 5\n"
     ]
    }
   ],
   "source": [
    "#check whether the given number is Divisable by 5\n",
    "num=int(input(\"Enter the Number :\"))\n",
    "if (num%5==0):\n",
    "    print(\"Divisable by 5\")\n",
    "else:\n",
    "    print(\"not Divisable by 5\")"
   ]
  },
  {
   "cell_type": "code",
   "execution_count": null,
   "id": "1c4e106a",
   "metadata": {},
   "outputs": [],
   "source": []
  },
  {
   "cell_type": "code",
   "execution_count": null,
   "id": "dc08970f",
   "metadata": {},
   "outputs": [],
   "source": []
  }
 ],
 "metadata": {
  "kernelspec": {
   "display_name": "Python 3 (ipykernel)",
   "language": "python",
   "name": "python3"
  },
  "language_info": {
   "codemirror_mode": {
    "name": "ipython",
    "version": 3
   },
   "file_extension": ".py",
   "mimetype": "text/x-python",
   "name": "python",
   "nbconvert_exporter": "python",
   "pygments_lexer": "ipython3",
   "version": "3.11.5"
  }
 },
 "nbformat": 4,
 "nbformat_minor": 5
}
