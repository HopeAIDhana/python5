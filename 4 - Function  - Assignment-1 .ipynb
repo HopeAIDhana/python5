{
 "cells": [
  {
   "cell_type": "code",
   "execution_count": null,
   "id": "442983bc",
   "metadata": {},
   "outputs": [],
   "source": [
    "#Create a Function, and List out the items in the List"
   ]
  },
  {
   "cell_type": "code",
   "execution_count": 1,
   "id": "1bc868f4",
   "metadata": {},
   "outputs": [
    {
     "name": "stdout",
     "output_type": "stream",
     "text": [
      "Sub-fields in AI are :\n",
      "Machine Learning\n",
      "Neural Networks\n",
      "Vision\n",
      "Robotics\n",
      "Speech Processing\n",
      "Natural Language Processing\n"
     ]
    }
   ],
   "source": [
    "#Create the Function\n",
    "\n",
    "def fieldsinai():\n",
    "    print(\"Sub-fields in AI are :\")\n",
    "fieldsinai()\n",
    "subfields=[\"Machine Learning\",\"Neural Networks\",\"Vision\",\"Robotics\",\"Speech Processing\",\"Natural Language Processing\"]\n",
    "for title in subfields:\n",
    "    print(title)"
   ]
  },
  {
   "cell_type": "code",
   "execution_count": 2,
   "id": "019a1c75",
   "metadata": {},
   "outputs": [
    {
     "name": "stdout",
     "output_type": "stream",
     "text": [
      "enter a number : 24542\n",
      "24542 is even number\n"
     ]
    }
   ],
   "source": [
    "#Create a function that checks whether the given number is odd or even\n",
    "num=int(input(\"enter a number : \"))\n",
    "def oddfun():\n",
    "        if (num % 2) != 0:        \n",
    "            print(num , \"is odd number\")\n",
    "        else:\n",
    "            print(num , \"is even number\")\n",
    "oddfun()\n",
    "        \n"
   ]
  },
  {
   "cell_type": "code",
   "execution_count": 8,
   "id": "2b775694",
   "metadata": {},
   "outputs": [
    {
     "name": "stdout",
     "output_type": "stream",
     "text": [
      "Your Age :20\n",
      "Your Gender :male\n",
      "Not Eligible\n"
     ]
    }
   ],
   "source": [
    "#create a function that tells the Eligibility of Marriage of Male and Female age limit\n",
    "def eligibility(age, age_limit):\n",
    "    if (age >= age_limit):\n",
    "        print(\"Eligible\")\n",
    "    else:\n",
    "        print(\"Not Eligible\")\n",
    "\n",
    "age=int(input(\"Your Age :\"))\n",
    "gen=input(\"Your Gender :\")\n",
    "if (gen== 'male'):\n",
    "    eligibility(age,21)\n",
    "elif (gen=='female'):\n",
    "    eligibility(age,18)\n",
    "                 \n",
    "                "
   ]
  },
  {
   "cell_type": "code",
   "execution_count": 10,
   "id": "46f54aab",
   "metadata": {},
   "outputs": [
    {
     "name": "stdout",
     "output_type": "stream",
     "text": [
      "subject1 = 98\n",
      "subject2 = 87\n",
      "subject3 = 95\n",
      "subject4 = 95\n",
      "subject5 = 93\n",
      "Total : 468\n",
      "Percentage : 93.60000000000001\n"
     ]
    }
   ],
   "source": [
    "#Calculate the Percentage of your 10th Mark\n",
    "def subjectmarks(m1,m2,m3,m4,m5):\n",
    "    total= int(subject1 + subject2 + subject3 + subject4 + subject5)\n",
    "    percentage = float((total / 500.0) * 100)\n",
    "    print(\"Total :\", total)\n",
    "    print(\"Percentage :\", percentage)\n",
    "subject1= int(input(\"subject1 = \"))\n",
    "subject2= int(input(\"subject2 = \"))\n",
    "subject3= int(input(\"subject3 = \"))\n",
    "subject4= int(input(\"subject4 = \"))\n",
    "subject5= int(input(\"subject5 = \"))\n",
    "subjectmarks (subject1,subject2,subject3,subject4,subject5) \n"
   ]
  },
  {
   "cell_type": "code",
   "execution_count": 6,
   "id": "8e0ac960",
   "metadata": {},
   "outputs": [
    {
     "name": "stdout",
     "output_type": "stream",
     "text": [
      "Height :32\n",
      "Breadth :34\n",
      "Area formula : (Height * Breadth) / 2 \n",
      "Area of Triangle : 544.0\n",
      "Breadth :2\n",
      "Height2 :4\n",
      "Height3 :4\n",
      "Perimeter formula : Height1 +  Height2 + Breadth\n",
      "Perimeter of Triangle : 10\n"
     ]
    }
   ],
   "source": [
    "#Print Area and Perimeter in Triangle using function\n",
    "def area_triangle (height,breadth):\n",
    "    area= float((height * breadth) // 2)\n",
    "    return area\n",
    "def peri_triangle (breath,second,third):\n",
    "    peri=round(breath+second+third)\n",
    "    return peri\n",
    "height = int(input(\"Height :\"))\n",
    "breadth = int(input(\"Breadth :\"))\n",
    "print(\"Area formula : (Height * Breadth) / 2 \",)\n",
    "print(\"Area of Triangle :\",area_triangle(height,breadth))\n",
    "base = int(input(\"Breadth :\"))\n",
    "second = int(input(\"Height2 :\"))\n",
    "third = int(input(\"Height3 :\"))\n",
    "print(\"Perimeter formula : Height1 +  Height2 + Breadth\")\n",
    "print(\"Perimeter of Triangle :\", peri_triangle(base,second,third)) \n",
    "    "
   ]
  },
  {
   "cell_type": "code",
   "execution_count": null,
   "id": "b089e4ce",
   "metadata": {},
   "outputs": [],
   "source": []
  }
 ],
 "metadata": {
  "kernelspec": {
   "display_name": "Python 3 (ipykernel)",
   "language": "python",
   "name": "python3"
  },
  "language_info": {
   "codemirror_mode": {
    "name": "ipython",
    "version": 3
   },
   "file_extension": ".py",
   "mimetype": "text/x-python",
   "name": "python",
   "nbconvert_exporter": "python",
   "pygments_lexer": "ipython3",
   "version": "3.11.5"
  }
 },
 "nbformat": 4,
 "nbformat_minor": 5
}
