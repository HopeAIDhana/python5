{
 "cells": [
  {
   "cell_type": "code",
   "execution_count": null,
   "id": "442983bc",
   "metadata": {},
   "outputs": [],
   "source": [
    "#Create a Class and Function, and List out the items in the List"
   ]
  },
  {
   "cell_type": "code",
   "execution_count": null,
   "id": "1bc868f4",
   "metadata": {},
   "outputs": [],
   "source": [
    "#Create the Function\n",
    "class subfieldsinAI():\n",
    "    def fieldsinai():\n",
    "        print(\"Sub-fields in AI are :\")\n",
    "    fieldsinai()\n",
    "subfields=[\"Machine Learning\",\"Neural Networks\",\"Vision\",\"Robotics\",\"Speech Processing\",\"Natural Language Processing\"]\n",
    "obj = subfieldsinAI()\n",
    "for title in subfields:\n",
    "    print(title)\n",
    "    "
   ]
  },
  {
   "cell_type": "code",
   "execution_count": null,
   "id": "019a1c75",
   "metadata": {},
   "outputs": [],
   "source": [
    "#Create a function that checks whether the given number is odd or even\n"
   ]
  },
  {
   "cell_type": "code",
   "execution_count": null,
   "id": "2b775694",
   "metadata": {},
   "outputs": [],
   "source": [
    "#create a function that tells the Eligibility of Marriage of Male and Female age limit\n",
    "class EligibilityforMarriage():\n",
    "    def eligibility(age, age_limit):\n",
    "        if (age >= age_limit):\n",
    "            print(\"Eligible\")\n",
    "        else:\n",
    "            print(\"Not Eligible\")\n",
    "\n",
    "age=int(input(\"Your Age :\"))\n",
    "gen=input(\"Your Gender :\")\n",
    "if (gen== 'male'):\n",
    "    EligibilityforMarriage.eligibility(age,21)\n",
    "elif (gen=='female'):\n",
    "    eligibility(age,18)\n",
    "                 \n",
    "                "
   ]
  },
  {
   "cell_type": "code",
   "execution_count": null,
   "id": "46f54aab",
   "metadata": {},
   "outputs": [],
   "source": [
    "#Calculate the Percentage of your 10th Mark\n",
    "class student:\n",
    "   "
   ]
  },
  {
   "cell_type": "code",
   "execution_count": null,
   "id": "8e0ac960",
   "metadata": {},
   "outputs": [],
   "source": [
    "#Print Area and Perimeter in Triangle using function\n",
    "\n",
    "class triangle():\n",
    "    def area_triangle (height,breadth):\n",
    "        area= float((height * breadth) // 2)\n",
    "        return area\n",
    "    def peri_triangle (breath,second,third):\n",
    "        peri=round(breath+second+third)\n",
    "        return peri\n",
    "height = int(input(\"Height :\"))\n",
    "breadth = int(input(\"Breadth :\"))\n",
    "print(\"Area formula : (Height * Breadth) / 2 \",)\n",
    "print(\"Area of Triangle :\",triangle.area_triangle(height,breadth))\n",
    "base = int(input(\"Breadth :\"))\n",
    "second = int(input(\"Height2 :\"))\n",
    "third = int(input(\"Height3 :\"))\n",
    "print(\"Perimeter formula : Height1 +  Height2 + Breadth\")\n",
    "print(\"Perimeter of Triangle :\", triangle.peri_triangle(base,second,third)) \n",
    "    "
   ]
  },
  {
   "cell_type": "code",
   "execution_count": null,
   "id": "b089e4ce",
   "metadata": {},
   "outputs": [],
   "source": []
  }
 ],
 "metadata": {
  "kernelspec": {
   "display_name": "Python 3 (ipykernel)",
   "language": "python",
   "name": "python3"
  },
  "language_info": {
   "codemirror_mode": {
    "name": "ipython",
    "version": 3
   },
   "file_extension": ".py",
   "mimetype": "text/x-python",
   "name": "python",
   "nbconvert_exporter": "python",
   "pygments_lexer": "ipython3",
   "version": "3.11.5"
  }
 },
 "nbformat": 4,
 "nbformat_minor": 5
}
