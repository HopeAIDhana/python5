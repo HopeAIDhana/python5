{
 "cells": [
  {
   "cell_type": "code",
   "execution_count": 14,
   "id": "1bc868f4",
   "metadata": {},
   "outputs": [],
   "source": [
    "#Create a Multifunction\n",
    "\n",
    "class MultipleFunction():\n",
    "#Subfields in AI    \n",
    "    def fieldsinai():\n",
    "        print(\"Sub-fields in AI are :\")\n",
    "        sub_fields=[\"Machine Learning\",\"Neural Networks\",\"Vision\",\"Robotics\",\"Speech Processing\",\"Natural Language Processing\"]\n",
    "        for title in sub_fields:\n",
    "            print(title)\n",
    "#Check the Given Number is Odd or Even\n",
    "    def OddEven():\n",
    "        num=int(input(\"Enter the Number :\"))\n",
    "        if (num%2) == 0:\n",
    "            print(\"{0} is Even Number\", format(num))\n",
    "        else:\n",
    "            print(\"{0} is Odd Number\", format(num))\n",
    "\n",
    "#create a function that tells the Eligibility of Marriage of Male and Female age limit\n",
    "\n",
    "    def Eligible():\n",
    "        age=int(input(\"Your Age :\"))\n",
    "        gender=input(\"Your Gender :\")\n",
    "        if (gender== 'male'):\n",
    "            if (age >= 21):\n",
    "                print(\"Eligible\")\n",
    "            else:\n",
    "                print(\"Not Eligible\")\n",
    "        elif (gender=='female'):\n",
    "            if(age>18):\n",
    "                print(\"Eligible\")\n",
    "            else:\n",
    "                print(\"Not Eligible\")\n",
    "        else:\n",
    "            print(\"Invalid Input Data\")   \n",
    "                \n",
    "\n",
    "#Find , Total, Percentage of Marks.\n",
    "    def percent():\n",
    "        s1=int(input(\"Subject_1  :\"))\n",
    "        s2=int(input(\"Subject_2  :\"))\n",
    "        s3=int(input(\"Subject_3  :\"))\n",
    "        s4=int(input(\"Subject_4  :\"))\n",
    "        s5=int(input(\"Subject_5  :\"))\n",
    "        Total=s1+s2+s3+s4+s5\n",
    "        print(\"Total : \",s1+s2+s3+s4+s5)\n",
    "        Perce=((Total/500.0)*100)\n",
    "        print(\"Percentage :\", Perce)  \n",
    "\n",
    "#Print Area and Perimeter in Triangle using function\n",
    "\n",
    "    def triangle():\n",
    "        height = int(input(\"Height :\"))\n",
    "        breadth = int(input(\"Breadth :\"))\n",
    "        print(\"Area formula : (Height * Breadth) / 2 \")\n",
    "        print(\"Area of Triangle :\",(height*breadth/2))\n",
    "        base = int(input(\"Breadth :\"))\n",
    "        second = int(input(\"Height2 :\"))\n",
    "        third = int(input(\"Height3 :\"))\n",
    "        print(\"Perimeter formula : Height1 +  Height2 + Breadth\")\n",
    "        print(\"Perimeter of Triangle :\",(base+second+third)) "
   ]
  },
  {
   "cell_type": "code",
   "execution_count": 3,
   "id": "1eb3aa60",
   "metadata": {},
   "outputs": [
    {
     "name": "stdout",
     "output_type": "stream",
     "text": [
      "Sub-fields in AI are :\n",
      "Machine Learning\n",
      "Neural Networks\n",
      "Vision\n",
      "Robotics\n",
      "Speech Processing\n",
      "Natural Language Processing\n"
     ]
    }
   ],
   "source": [
    "MultipleFunction.fieldsinai()"
   ]
  },
  {
   "cell_type": "code",
   "execution_count": 9,
   "id": "87903d33",
   "metadata": {},
   "outputs": [
    {
     "name": "stdout",
     "output_type": "stream",
     "text": [
      "Enter the Number :52452\n",
      "{0} is Even Number 52452\n"
     ]
    }
   ],
   "source": [
    "MultipleFunction.OddEven()"
   ]
  },
  {
   "cell_type": "code",
   "execution_count": 11,
   "id": "119218f8",
   "metadata": {},
   "outputs": [
    {
     "name": "stdout",
     "output_type": "stream",
     "text": [
      "Your Age :21\n",
      "Your Gender :male\n",
      "Eligible\n"
     ]
    }
   ],
   "source": [
    "MultipleFunction.Eligible()"
   ]
  },
  {
   "cell_type": "code",
   "execution_count": 13,
   "id": "e1dd9142",
   "metadata": {},
   "outputs": [
    {
     "name": "stdout",
     "output_type": "stream",
     "text": [
      "Subject_1  :98\n",
      "Subject_2  :87\n",
      "Subject_3  :95\n",
      "Subject_4  :95\n",
      "Subject_5  :93\n",
      "Total :  468\n",
      "Percentage : 93.60000000000001\n"
     ]
    }
   ],
   "source": [
    "MultipleFunction.percent()"
   ]
  },
  {
   "cell_type": "code",
   "execution_count": 15,
   "id": "293ccbfb",
   "metadata": {},
   "outputs": [
    {
     "name": "stdout",
     "output_type": "stream",
     "text": [
      "Height :32\n",
      "Breadth :34\n",
      "Area formula : (Height * Breadth) / 2 \n",
      "Area of Triangle : 544.0\n",
      "Breadth :2\n",
      "Height2 :4\n",
      "Height3 :4\n",
      "Perimeter formula : Height1 +  Height2 + Breadth\n",
      "Perimeter of Triangle : 10\n"
     ]
    }
   ],
   "source": [
    "MultipleFunction.triangle()"
   ]
  },
  {
   "cell_type": "code",
   "execution_count": null,
   "id": "ce21abb2",
   "metadata": {},
   "outputs": [],
   "source": []
  }
 ],
 "metadata": {
  "kernelspec": {
   "display_name": "Python 3 (ipykernel)",
   "language": "python",
   "name": "python3"
  },
  "language_info": {
   "codemirror_mode": {
    "name": "ipython",
    "version": 3
   },
   "file_extension": ".py",
   "mimetype": "text/x-python",
   "name": "python",
   "nbconvert_exporter": "python",
   "pygments_lexer": "ipython3",
   "version": "3.11.5"
  }
 },
 "nbformat": 4,
 "nbformat_minor": 5
}
